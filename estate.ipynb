#Импортируем 2 библиотеки и применим метод read_csv для чтения датасета

import pandas as pd
import matplotlib.pyplot as plt

try:
    data = pd.read_csv('C:\\jupyter_project\\number2\\real_estate_data.csv', sep='\t')
except:
    data = pd.read_csv('/datasets/real_estate_data.csv', sep='\t')

#Выведем первые 5 строк датасета

data.sample(5)
